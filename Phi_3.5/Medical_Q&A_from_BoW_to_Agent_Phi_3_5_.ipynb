{
  "nbformat": 4,
  "nbformat_minor": 0,
  "metadata": {
    "colab": {
      "provenance": [],
      "gpuType": "A100",
      "authorship_tag": "ABX9TyPX3uEj6AOyRxD7+qv6LxQi",
      "include_colab_link": true
    },
    "kernelspec": {
      "name": "python3",
      "display_name": "Python 3"
    },
    "language_info": {
      "name": "python"
    },
    "accelerator": "GPU"
  },
  "cells": [
    {
      "cell_type": "markdown",
      "metadata": {
        "id": "view-in-github",
        "colab_type": "text"
      },
      "source": [
        "<a href=\"https://colab.research.google.com/github/claudio1975/PyCon_Italia_2025/blob/main/Phi_3.5/Medical_Q%26A_from_BoW_to_Agent_Phi_3_5_.ipynb\" target=\"_parent\"><img src=\"https://colab.research.google.com/assets/colab-badge.svg\" alt=\"Open In Colab\"/></a>"
      ]
    },
    {
      "cell_type": "markdown",
      "source": [
        "### Prepare Workspace"
      ],
      "metadata": {
        "id": "2aD9Ic9CkeTf"
      }
    },
    {
      "cell_type": "code",
      "execution_count": null,
      "metadata": {
        "id": "k0jh7ZTuXtb5"
      },
      "outputs": [],
      "source": [
        "!pip install -q torch transformers sentence-transformers faiss-cpu pypdf &> /dev/null\n"
      ]
    },
    {
      "cell_type": "code",
      "source": [
        "!pip install -U langchain-huggingface &>/dev/null\n"
      ],
      "metadata": {
        "id": "BfbJc8_LZMez"
      },
      "execution_count": null,
      "outputs": []
    },
    {
      "cell_type": "code",
      "source": [
        "!pip install -q langchain langchain-community &> /dev/null\n"
      ],
      "metadata": {
        "id": "kGUy0t9vZMjs"
      },
      "execution_count": null,
      "outputs": []
    },
    {
      "cell_type": "code",
      "source": [
        "!pip install ipywidgets &>/dev/null"
      ],
      "metadata": {
        "id": "SKb5sWbDZMmR"
      },
      "execution_count": null,
      "outputs": []
    },
    {
      "cell_type": "code",
      "source": [
        "! pip install huggingface_hub[hf_xet] &> /dev/null"
      ],
      "metadata": {
        "id": "m6aHTKYVnzFp"
      },
      "execution_count": null,
      "outputs": []
    },
    {
      "cell_type": "code",
      "source": [
        "! pip install -U \"autogen[openai]\" &>/dev/null"
      ],
      "metadata": {
        "id": "PDTFLkN-NRuQ"
      },
      "execution_count": null,
      "outputs": []
    },
    {
      "cell_type": "code",
      "source": [
        "import os\n",
        "import pandas as pd\n",
        "import numpy as np\n",
        "import langchain as lc\n",
        "from sklearn.feature_extraction.text import TfidfVectorizer\n",
        "from sklearn.metrics.pairwise import cosine_similarity\n",
        "from langchain import LLMMathChain\n",
        "from langchain.chains import LLMChain\n",
        "from langchain.chains import RetrievalQA\n",
        "from langchain.document_loaders import PyPDFLoader\n",
        "from langchain.text_splitter import RecursiveCharacterTextSplitter\n",
        "from langchain_huggingface import HuggingFaceEmbeddings\n",
        "from langchain.vectorstores import FAISS\n",
        "from langchain.schema import Document\n",
        "import torch\n",
        "from transformers import AutoTokenizer, AutoModelForCausalLM\n",
        "from transformers import pipeline\n",
        "from langchain.prompts import PromptTemplate\n",
        "from langchain_core.output_parsers import StrOutputParser\n",
        "from langchain_core.runnables import RunnablePassthrough\n",
        "from langchain_huggingface import HuggingFacePipeline\n",
        "import autogen\n",
        "from autogen import AssistantAgent\n",
        "\n",
        "import warnings\n",
        "warnings.filterwarnings(\"ignore\")\n"
      ],
      "metadata": {
        "id": "SZNQ2DRPZMop"
      },
      "execution_count": null,
      "outputs": []
    },
    {
      "cell_type": "code",
      "source": [
        "llm_config = {\n",
        "    \"model\": \"gpt-4o-mini\",\n",
        "    \"api_key\": \"\"\n",
        "    }"
      ],
      "metadata": {
        "id": "GvRhnoQPSe-I"
      },
      "execution_count": null,
      "outputs": []
    },
    {
      "cell_type": "markdown",
      "source": [
        "### Upload the dataset"
      ],
      "metadata": {
        "id": "IaMmpX13koar"
      }
    },
    {
      "cell_type": "markdown",
      "source": [
        "Is used a medical dataset with Q&A (https://huggingface.co/datasets/lavita/ChatDoctor-iCliniq) located in the Lavita AI Hugging Face space (https://huggingface.co/lavita). LAVITA is a blockchain-AI based next generation healthcare platform, enabling the use of massive biomedical datasets for research while preserving individual privacy and ownership of data."
      ],
      "metadata": {
        "id": "dwUNCeV52o3v"
      }
    },
    {
      "cell_type": "code",
      "source": [
        "dataset = pd.read_parquet(\"hf://datasets/lavita/ChatDoctor-iCliniq/data/train-00000-of-00001-7f15f39e4c3a7ee9.parquet\")\n",
        "# Select relevant columns\n",
        "selected_columns = ['input', 'answer_icliniq']\n",
        "train_dataset = dataset[selected_columns].copy()\n",
        "\n",
        "# Convert the DataFrame to a list of Document objects\n",
        "documents = [\n",
        "    Document(page_content=row['input'], metadata={'answer': row['answer_icliniq']})\n",
        "    for _, row in train_dataset.iterrows()\n",
        "]\n"
      ],
      "metadata": {
        "id": "LuGYOGxAZMrY"
      },
      "execution_count": null,
      "outputs": []
    },
    {
      "cell_type": "code",
      "source": [
        "#-----------------\n",
        "# Look up\n",
        "#-----------------\n"
      ],
      "metadata": {
        "id": "H2q2ODql7dJx"
      },
      "execution_count": null,
      "outputs": []
    },
    {
      "cell_type": "markdown",
      "source": [
        "\n",
        "#### What it is:\n",
        "Retrieves exact matches by comparing the query directly to dataset inputs to find corresponding answers. Can be used for FAQ.\n",
        "\n",
        "#### Strengths & Weaknesses:\n",
        "Simple and fast for exact matches; no complex computations or models are required. Limited to existing exact matches."
      ],
      "metadata": {
        "id": "nIMj4B9A_MYF"
      }
    },
    {
      "cell_type": "code",
      "source": [
        "# Define function to retrieve answers\n",
        "def get_answer_exact(query, df):\n",
        "    result = train_dataset[train_dataset[\"input\"] == query][\"answer_icliniq\"]\n",
        "    return result.iloc[0] if not result.empty else \"No exact match found\"\n"
      ],
      "metadata": {
        "id": "sxldnNAo7drG"
      },
      "execution_count": null,
      "outputs": []
    },
    {
      "cell_type": "code",
      "source": [
        "# Example search\n",
        "query = \"HI doctor, What are common symptoms of flu?\"\n",
        "print(get_answer_exact(query, train_dataset))\n",
        "\n"
      ],
      "metadata": {
        "colab": {
          "base_uri": "https://localhost:8080/"
        },
        "id": "Xg1BiwPZ7d40",
        "outputId": "fb28cab4-7c0f-4152-ddd2-ffe02f454f9d"
      },
      "execution_count": null,
      "outputs": [
        {
          "output_type": "stream",
          "name": "stdout",
          "text": [
            "No exact match found\n"
          ]
        }
      ]
    },
    {
      "cell_type": "code",
      "source": [
        "# Example search\n",
        "query= \"Hi doctor,My last USG report showed intrauterine pregnancy with 8 mm gestation sac, no fetal and yolk sac. Last week I had brown discharge with mild lower abdominal pain and was prescribed Susten 200 mg (oral). Now, I am feeling the pain frequently in the right lower abdomen with mild bleeding and pain. It is less when I lie on bed. What to do?\"\n",
        "print(get_answer_exact(query, train_dataset))\n",
        "\n"
      ],
      "metadata": {
        "colab": {
          "base_uri": "https://localhost:8080/"
        },
        "id": "pfeEe25L7d-e",
        "outputId": "f4fed630-44d3-4088-bac1-2f26f98e383b"
      },
      "execution_count": null,
      "outputs": [
        {
          "output_type": "stream",
          "name": "stdout",
          "text": [
            "Hello, Welcome to Chat Doctor forum. I have read through your question and understand your concerns. I think it is threatened abortion. You should take bed rest along with tablet Susten 200 mg twice daily (Progesterone) for two weeks and Mbryosafe sachet once daily (L-arginine). I think it will help you and give you better prognosis. Ultrasound is required after two weeks for evaluation.\n"
          ]
        }
      ]
    },
    {
      "cell_type": "code",
      "source": [
        "# Example search\n",
        "query=\"Hello doctor,I am currently having acne on my cheeks. I am currently applying Benzoyl peroxide gel on my acne. It only reduces the inflammation but bumps are not reducing. I also have pigmentation caused by acne before. I only get acne on my cheeks. What may be the reason? I usually get cyst acne bumps on my cheeks. If acne clears, then it comes again. I have red pigmentation caused by acne. Can you recommend a product for acne and after acne has cleared, can you suggest a product for pigmentation? Can you recommend a product for controlling further breakouts? Also, I wanted to know which sunscreen and moisturizer to use?\"\n",
        "print(get_answer_exact(query, train_dataset))\n",
        "\n"
      ],
      "metadata": {
        "colab": {
          "base_uri": "https://localhost:8080/"
        },
        "id": "20roMcdg7eBN",
        "outputId": "a641cda3-0e1b-4b72-d64c-a63e3a75b0bf"
      },
      "execution_count": null,
      "outputs": [
        {
          "output_type": "stream",
          "name": "stdout",
          "text": [
            "Hi. Acne reduces in severity with aging. Use cleanser like Cetaphil to wash face. Apply Retino-A (Retinol) cream in the night, Clindamycin gel in the morning. Treat dan ChatDoctor.  You can use sunscreens like Shade (Avobenzone, Oxybenzone) lotion. Retino-A helps in pigmentation and to some extent scars. You can consider lasers later if scars persist. For more information consult a dermatologist online\n"
          ]
        }
      ]
    },
    {
      "cell_type": "code",
      "source": [
        "#---------\n",
        "# BoW\n",
        "#---------\n",
        "\n"
      ],
      "metadata": {
        "id": "h1PtCYsI7eGR"
      },
      "execution_count": null,
      "outputs": []
    },
    {
      "cell_type": "markdown",
      "source": [
        "\n",
        "#### What it is:\n",
        "Can be used representing text as TF-IDF vectors or word frequency.\n",
        "It finds similarity between queries and dataset input on term overlap.\n",
        "\n",
        "#### Strengths & weaknesses:\n",
        "Effective for identifying relevant documents based on word patterns; computationally efficient, it's simple but lacks deep understanding, because it ignores word order and context.\n",
        "\n"
      ],
      "metadata": {
        "id": "KFvG1aHw_wGz"
      }
    },
    {
      "cell_type": "code",
      "source": [
        "# Create BoW / TF-IDF vectors\n",
        "vectorizer = TfidfVectorizer()\n",
        "X = vectorizer.fit_transform(train_dataset[\"input\"])  # Convert input column into vector form\n",
        "\n",
        "# Function to find the closest matching input\n",
        "def retrieve_answer_bow(query, df, vectorizer, X):\n",
        "    query_vec = vectorizer.transform([query])  # Vectorize the query\n",
        "    similarities = cosine_similarity(query_vec, X).flatten()  # Compute similarity\n",
        "    best_match_idx = similarities.argmax()  # Get the closest match index\n",
        "    return df.iloc[best_match_idx][\"answer_icliniq\"]\n"
      ],
      "metadata": {
        "id": "zorXrLNG7vw5"
      },
      "execution_count": null,
      "outputs": []
    },
    {
      "cell_type": "code",
      "source": [
        "# Example search\n",
        "query = \"HI doctor, What are common symptoms of flu?\"\n",
        "answer = retrieve_answer_bow(query, train_dataset, vectorizer, X)\n",
        "print(answer)\n",
        "\n"
      ],
      "metadata": {
        "colab": {
          "base_uri": "https://localhost:8080/"
        },
        "id": "nCRIfdE373Sr",
        "outputId": "b7d5dda9-6a8c-4ad2-d543-e8b2143f68f7"
      },
      "execution_count": null,
      "outputs": [
        {
          "output_type": "stream",
          "name": "stdout",
          "text": [
            "Hello. According to your statement, you got a fever that subsided after two days and then developed flu and mouth sore. Mouth sore is a common complication of flu. Again mouth sore may develope by a viral infection like herpes simplex virus most commonly fungal infection, nutritional deficiency like iron, zinc, vitamin B12, etc. Some medications like corticosteroid, chemotherapy, sulfa  ChatDoctor.  Autoimmune disorders like lichen planus also. For your flu-like running nose and body ache you can take anti-histamine, Acetamenofen or Paracetamol, topical antiviral cream, vitamins containing B12 with zinc and iron. If any complications occur or your symptoms do not subside within seven to ten days inform me as soon as possible, I will try to help you further.\n"
          ]
        }
      ]
    },
    {
      "cell_type": "code",
      "source": [
        "# Example search\n",
        "query= \"Hi doctor,My last USG report showed intrauterine pregnancy with 8 mm gestation sac, no fetal and yolk sac. Last week I had brown discharge with mild lower abdominal pain and was prescribed Susten 200 mg (oral). Now, I am feeling the pain frequently in the right lower abdomen with mild bleeding and pain. It is less when I lie on bed. What to do?\"\n",
        "answer = retrieve_answer_bow(query, train_dataset, vectorizer, X)\n",
        "print(answer)\n",
        "\n"
      ],
      "metadata": {
        "colab": {
          "base_uri": "https://localhost:8080/"
        },
        "id": "IW00r-l673Y9",
        "outputId": "b863e455-8099-475a-d903-b0de5b3751b9"
      },
      "execution_count": null,
      "outputs": [
        {
          "output_type": "stream",
          "name": "stdout",
          "text": [
            "Hello, Welcome to Chat Doctor forum. I have read through your question and understand your concerns. I think it is threatened abortion. You should take bed rest along with tablet Susten 200 mg twice daily (Progesterone) for two weeks and Mbryosafe sachet once daily (L-arginine). I think it will help you and give you better prognosis. Ultrasound is required after two weeks for evaluation.\n"
          ]
        }
      ]
    },
    {
      "cell_type": "code",
      "source": [
        "# Example search\n",
        "query=\"Hello doctor,I am currently having acne on my cheeks. I am currently applying Benzoyl peroxide gel on my acne. It only reduces the inflammation but bumps are not reducing. I also have pigmentation caused by acne before. I only get acne on my cheeks. What may be the reason? I usually get cyst acne bumps on my cheeks. If acne clears, then it comes again. I have red pigmentation caused by acne. Can you recommend a product for acne and after acne has cleared, can you suggest a product for pigmentation? Can you recommend a product for controlling further breakouts? Also, I wanted to know which sunscreen and moisturizer to use?\"\n",
        "answer = retrieve_answer_bow(query, train_dataset, vectorizer, X)\n",
        "print(answer)\n",
        "\n"
      ],
      "metadata": {
        "colab": {
          "base_uri": "https://localhost:8080/"
        },
        "id": "4ro2uNDT73dS",
        "outputId": "34c68b9c-c586-4b52-f421-aefe8a43c14e"
      },
      "execution_count": null,
      "outputs": [
        {
          "output_type": "stream",
          "name": "stdout",
          "text": [
            "Hi. Acne reduces in severity with aging. Use cleanser like Cetaphil to wash face. Apply Retino-A (Retinol) cream in the night, Clindamycin gel in the morning. Treat dan ChatDoctor.  You can use sunscreens like Shade (Avobenzone, Oxybenzone) lotion. Retino-A helps in pigmentation and to some extent scars. You can consider lasers later if scars persist. For more information consult a dermatologist online\n"
          ]
        }
      ]
    },
    {
      "cell_type": "code",
      "source": [
        "#------------------------------------------------\n",
        "# Semantic Search (Using Embeddings without RAG)\n",
        "#------------------------------------------------\n"
      ],
      "metadata": {
        "id": "aGh2gO7v73in"
      },
      "execution_count": null,
      "outputs": []
    },
    {
      "cell_type": "markdown",
      "source": [
        "#### What it is:\n",
        "Transforms text into dense vector representations using models like HuggingFace’s embeddings for semantic similarity search.\n",
        "\n",
        "#### Strengths & weaknesses:\n",
        "Captures semantic meaning beyond exact words; handles synonyms and contextual nuances well. It captures meaning better, but require vector storage; may miss domain-specific meanings."
      ],
      "metadata": {
        "id": "mykmwt_lAvTl"
      }
    },
    {
      "cell_type": "code",
      "source": [
        "# Initialize HuggingFace Embeddings\n",
        "embedding_model = HuggingFaceEmbeddings(model_name='all-MiniLM-L6-v2')\n",
        "\n",
        "# Create FAISS index from Document objects\n",
        "db_emb = FAISS.from_documents(documents, embedding_model)\n",
        "\n",
        "# Initialize Retriever\n",
        "retriever = db_emb.as_retriever(\n",
        "    search_type=\"similarity\",\n",
        "    search_kwargs={'k': 3}\n",
        ")\n",
        "\n",
        "# Function to retrieve answers using Semantic Search\n",
        "def retrieve_answer_semantic(query, retriever, top_k=3):\n",
        "    retrieved_docs = retriever.get_relevant_documents(query)\n",
        "    if not retrieved_docs:\n",
        "        return \"No relevant answers found.\"\n",
        "    # For simplicity, return the top 1 answer\n",
        "    return retrieved_docs[0].metadata['answer']\n",
        "\n",
        "\n"
      ],
      "metadata": {
        "id": "O8Xycvsq73kz"
      },
      "execution_count": null,
      "outputs": []
    },
    {
      "cell_type": "code",
      "source": [
        "# Example search\n",
        "query = \"HI doctor, What are common symptoms of flu?\"\n",
        "answer = retrieve_answer_semantic(query, retriever)\n",
        "print(answer)\n"
      ],
      "metadata": {
        "colab": {
          "base_uri": "https://localhost:8080/"
        },
        "id": "susKhVv_y5BR",
        "outputId": "54f1960f-5d91-4542-99bf-934618cfc42a"
      },
      "execution_count": null,
      "outputs": [
        {
          "output_type": "stream",
          "name": "stdout",
          "text": [
            "Hello, Welcome to Chat Doctor forum. I have gone through your query, and I can understand your concerns. The symptoms you have mentioned are suggestive of pharyngitis (a sore throat) along with a common cold. You do not need to worry regarding this as it is highly curable and complications are rare. I suggest you consult a general practitioner and get the following things done. For more information consult a general practitioner online\n"
          ]
        }
      ]
    },
    {
      "cell_type": "code",
      "source": [
        "# Example search\n",
        "query= \"Hi doctor,My last USG report showed intrauterine pregnancy with 8 mm gestation sac, no fetal and yolk sac. Last week I had brown discharge with mild lower abdominal pain and was prescribed Susten 200 mg (oral). Now, I am feeling the pain frequently in the right lower abdomen with mild bleeding and pain. It is less when I lie on bed. What to do?\"\n",
        "answer = retrieve_answer_semantic(query, retriever)\n",
        "print(answer)\n"
      ],
      "metadata": {
        "colab": {
          "base_uri": "https://localhost:8080/"
        },
        "id": "XHV8tpnRy5CI",
        "outputId": "b10b998a-c867-47da-c4ce-17fb0e9cafa2"
      },
      "execution_count": null,
      "outputs": [
        {
          "output_type": "stream",
          "name": "stdout",
          "text": [
            "Hello, Welcome to Chat Doctor forum. I have read through your question and understand your concerns. I think it is threatened abortion. You should take bed rest along with tablet Susten 200 mg twice daily (Progesterone) for two weeks and Mbryosafe sachet once daily (L-arginine). I think it will help you and give you better prognosis. Ultrasound is required after two weeks for evaluation.\n"
          ]
        }
      ]
    },
    {
      "cell_type": "code",
      "source": [
        "# Example search\n",
        "query=\"Hello doctor,I am currently having acne on my cheeks. I am currently applying Benzoyl peroxide gel on my acne. It only reduces the inflammation but bumps are not reducing. I also have pigmentation caused by acne before. I only get acne on my cheeks. What may be the reason? I usually get cyst acne bumps on my cheeks. If acne clears, then it comes again. I have red pigmentation caused by acne. Can you recommend a product for acne and after acne has cleared, can you suggest a product for pigmentation? Can you recommend a product for controlling further breakouts? Also, I wanted to know which sunscreen and moisturizer to use?\"\n",
        "answer = retrieve_answer_semantic(query, retriever)\n",
        "print(answer)\n"
      ],
      "metadata": {
        "id": "blCV0j-973pV",
        "colab": {
          "base_uri": "https://localhost:8080/"
        },
        "outputId": "80b25324-18aa-47af-c84a-957a5bd99607"
      },
      "execution_count": null,
      "outputs": [
        {
          "output_type": "stream",
          "name": "stdout",
          "text": [
            "Hi. Acne reduces in severity with aging. Use cleanser like Cetaphil to wash face. Apply Retino-A (Retinol) cream in the night, Clindamycin gel in the morning. Treat dan ChatDoctor.  You can use sunscreens like Shade (Avobenzone, Oxybenzone) lotion. Retino-A helps in pigmentation and to some extent scars. You can consider lasers later if scars persist. For more information consult a dermatologist online\n"
          ]
        }
      ]
    },
    {
      "cell_type": "code",
      "source": [
        "#---------------\n",
        "# RAG TIME\n",
        "#---------------\n"
      ],
      "metadata": {
        "id": "oR6iFdVv73qS"
      },
      "execution_count": null,
      "outputs": []
    },
    {
      "cell_type": "markdown",
      "source": [
        "#### What it is:\n",
        "Combines document retrieval with LLMs to produce informed, context-aware answers based on recovered information.\n",
        "\n",
        "#### Strengths & weaknesses:\n",
        "Generates more accurate and contextually relevant responses; leverages both retrieval and generation capabilities, but is heavier computationally, and potential for generating incorrect or hallucinated information if retrieval is poor.\n",
        "\n"
      ],
      "metadata": {
        "id": "wSjGENONBIbm"
      }
    },
    {
      "cell_type": "code",
      "source": [
        "splitter = RecursiveCharacterTextSplitter(chunk_size=512, chunk_overlap=30)\n",
        "chunked_docs = splitter.split_documents(documents)\n",
        "\n",
        "print(\"Dataset Splited by Chunks - You have {0} number of chunks.\".format(len(chunked_docs)))\n"
      ],
      "metadata": {
        "colab": {
          "base_uri": "https://localhost:8080/"
        },
        "id": "8BgMz0V6cbbd",
        "outputId": "450ee4a3-c016-42bc-e771-19b6e084716e"
      },
      "execution_count": null,
      "outputs": [
        {
          "output_type": "stream",
          "name": "stdout",
          "text": [
            "Dataset Splited by Chunks - You have 10343 number of chunks.\n"
          ]
        }
      ]
    },
    {
      "cell_type": "code",
      "source": [
        "db = FAISS.from_documents(chunked_docs,\n",
        "                          HuggingFaceEmbeddings(model_name='all-MiniLM-L6-v2'))\n",
        "\n",
        "retriever = db.as_retriever(\n",
        "    search_type=\"similarity\",\n",
        "    search_kwargs={'k': 3}\n",
        ")\n",
        "\n",
        "model_name = \"microsoft/Phi-3.5-mini-instruct\"\n",
        "model = AutoModelForCausalLM.from_pretrained(model_name)\n",
        "tokenizer = AutoTokenizer.from_pretrained(model_name)\n"
      ],
      "metadata": {
        "id": "O53qhlv8cbdk",
        "collapsed": true
      },
      "execution_count": null,
      "outputs": []
    },
    {
      "cell_type": "code",
      "source": [
        "# Pipeline for text generation\n",
        "text_generation_pipeline = pipeline(\n",
        "    model=model,\n",
        "    tokenizer=tokenizer,\n",
        "    task=\"text-generation\",\n",
        "    temperature=0.2,\n",
        "    do_sample=True,\n",
        "    repetition_penalty=1.1,\n",
        "    return_full_text=True,\n",
        "    max_new_tokens=500,\n",
        ")\n",
        "\n",
        "llm = HuggingFacePipeline(pipeline=text_generation_pipeline)\n",
        "\n",
        "# Prompt template to match desired output format\n",
        "prompt_template = \"\"\"\n",
        "=================================================================================================\n",
        "You are an expert doctor giving a precise answer based on the provided context.\n",
        "If you don't find the response in the context, just say \"I haven't found the answer\".\n",
        "If you don't know the reply, just say \"I don't know\", don't try to make up an answer.\n",
        "Give the return in bullet points within 50 words.\n",
        "=================================================================================================\n",
        "Context:\n",
        "{context}\n",
        "=================================================================================================\n",
        "Question: {question}\n",
        "=================================================================================================\n",
        "Answer:\n",
        "=================================================================================================\n",
        "\"\"\"\n",
        "\n",
        "prompt = PromptTemplate(\n",
        "    input_variables=[\"context\", \"question\"],\n",
        "    template=prompt_template,\n",
        ")\n",
        "\n",
        "llm_chain = prompt | llm | StrOutputParser()\n",
        "\n",
        "\n",
        "rag_chain = (\n",
        "    {\"context\": retriever, \"question\": RunnablePassthrough()}\n",
        "    | llm_chain\n",
        ")\n"
      ],
      "metadata": {
        "colab": {
          "base_uri": "https://localhost:8080/"
        },
        "id": "p-GasAfbcbgg",
        "outputId": "4572955e-8fef-4443-9ada-8f7a2ef298e0"
      },
      "execution_count": null,
      "outputs": [
        {
          "output_type": "stream",
          "name": "stderr",
          "text": [
            "Device set to use cuda:0\n"
          ]
        }
      ]
    },
    {
      "cell_type": "code",
      "source": [
        "question = \"HI doctor, What are common symptoms of flu?\"\n",
        "# Invoke the chain to generate answers\n",
        "result = rag_chain.invoke(question)\n",
        "\n",
        "# Display the output\n",
        "print(result)\n"
      ],
      "metadata": {
        "colab": {
          "base_uri": "https://localhost:8080/"
        },
        "id": "fH3LcPCz8MyB",
        "outputId": "f07922af-d530-4a55-f7a9-eb43669f4e07"
      },
      "execution_count": null,
      "outputs": [
        {
          "output_type": "stream",
          "name": "stdout",
          "text": [
            "\n",
            "=================================================================================================\n",
            "You are an expert doctor giving a precise answer based on the provided context.\n",
            "If you don't find the response in the context, just say \"I haven't found the answer\".\n",
            "If you don't know the reply, just say \"I don't know\", don't try to make up an answer.\n",
            "Give the return in bullet points within 50 words.\n",
            "=================================================================================================\n",
            "Context:\n",
            "[Document(id='0fe8af79-97cd-4bac-ac5a-36e0e4295890', metadata={'answer': 'Hi. I have read your query and understood your health concern. Infection by Streptococcus or viral. 1. Complete blood count.2. Chest x-ray.3. Nasal and throat swab culture.4. PCR.  Take care.'}, page_content='now. I am wondering are stomach cramps, chest pain, back pain, and labored breathing symptoms of flu? Please do the needful.'), Document(id='9c73ac0b-f4b1-4c88-9fdb-59b7376fea03', metadata={'answer': 'Hello, Welcome to Chat Doctor forum. I have gone through your query, and I can understand your concerns. The symptoms you have mentioned are suggestive of pharyngitis (a sore throat) along with a common cold. You do not need to worry regarding this as it is highly curable and complications are rare. I suggest you consult a general practitioner and get the following things done. For more information consult a general practitioner online'}, page_content='Hello doctor,I am a 20 year old male, who weighs 175 lbs and I am 5.11 feet tall. I had flu-like symptoms last month, which lasted for about three days. And I just had flu-like symptoms again this month. It started three days back, and it is not as severe as the first time. First time I had a fever, chills, headaches, pain and sore throat. The symptoms this month started with a sore throat, then I got a fever of 101 F, followed by a headache and back pain.'), Document(id='6276ae7a-8596-4c20-9271-985eff791993', metadata={'answer': 'Hello. I will surely help you out. From the symptoms, you have described you most probably have food poisoning. So for vomiting and nausea you need Ondansetron or Domperidone. For fever, Paracetamol will suffice and for body ache, you should have Diclofenac with Ranitidine. Also, antibiotics need to be started. Empirical antibiotics are Ofloxacin and Ornidazole but for definite antibiotic stool culture and sensitivity is required. If you get repeated infection then some serology testing and anti-parasite  ChatDoctor.  There is no specific type of fever in food poisoning but for details, you can visit a nearby hospital and get your work up done and attending doctor will help you out with more details. For more information consult a family physician online  Take care.'}, page_content='Hi doctor,I have a vomit, loose motion, fever, and body ache. I want to know what kind of fever I have. What are the medicines I can use? And what are the health tips I can follow?')]\n",
            "=================================================================================================\n",
            "Question: HI doctor, What are common symptoms of flu?\n",
            "=================================================================================================\n",
            "Answer:\n",
            "=================================================================================================\n",
            "• Sore Throat\n",
            "• Headaches\n",
            "• Body Aches\n",
            "• High Temperature/Fever\n",
            "Please note that these symptoms may vary from person to person. Consultation with a medical professional is recommended if experiencing such symptoms persistently.\n",
            "Take care.\n",
            "==> Answer Summary <==\n",
            "• Common Flu Symptoms include - Sore Throat, Headaches, Body Aches, High temperature / Fever\n",
            "=== End ===\n",
            "\n"
          ]
        }
      ]
    },
    {
      "cell_type": "code",
      "source": [
        "question = \"Hi doctor,My last USG report showed intrauterine pregnancy with 8 mm gestation sac, no fetal and yolk sac. Last week I had brown discharge with mild lower abdominal pain and was prescribed Susten 200 mg (oral). Now, I am feeling the pain frequently in the right lower abdomen with mild bleeding and pain. It is less when I lie on bed. What to do?\"\n",
        "# Invoke the chain to generate answers\n",
        "result = rag_chain.invoke(question)\n",
        "\n",
        "# Display the output\n",
        "print(result)\n"
      ],
      "metadata": {
        "colab": {
          "base_uri": "https://localhost:8080/"
        },
        "id": "NHT5UpON8M4N",
        "outputId": "96663c8a-b157-4f49-8da0-83df387979d9"
      },
      "execution_count": null,
      "outputs": [
        {
          "output_type": "stream",
          "name": "stdout",
          "text": [
            "\n",
            "=================================================================================================\n",
            "You are an expert doctor giving a precise answer based on the provided context.\n",
            "If you don't find the response in the context, just say \"I haven't found the answer\".\n",
            "If you don't know the reply, just say \"I don't know\", don't try to make up an answer.\n",
            "Give the return in bullet points within 50 words.\n",
            "=================================================================================================\n",
            "Context:\n",
            "[Document(id='92b68f6f-f664-49c6-8449-66e8984fce30', metadata={'answer': 'Hello, Welcome to Chat Doctor forum. I have read through your question and understand your concerns. I think it is threatened abortion. You should take bed rest along with tablet Susten 200 mg twice daily (Progesterone) for two weeks and Mbryosafe sachet once daily (L-arginine). I think it will help you and give you better prognosis. Ultrasound is required after two weeks for evaluation.'}, page_content='Hi doctor,My last USG report showed intrauterine pregnancy with 8 mm gestation sac, no fetal and yolk sac. Last week I had brown discharge with mild lower abdominal pain and was prescribed Susten 200 mg (oral). Now, I am feeling the pain frequently in the right lower abdomen with mild bleeding and pain. It is less when I lie on bed. What to do?'), Document(id='e4dadb0f-d53c-4528-99b5-0f2a3200a022', metadata={'answer': 'Hi, Welcome to Chat Doctor forum. How are you doing? Hope this is your first pregnancy. From your history, I feel this is just the pain due to streching of uterus. Uterus is just a 7 cm muscular organ, till you reach 40 weeks, baby weight is gradually increasing, thereby streching the uterine muscles which will be painful. This also stretches the muscular and ligaments support to uterus, attached to the bones around. Vaginal white thin discharge is normal due to the progesterone hormones.   As long as you have no bleeding, no other obstetric and medical problems, this is fine. To relax uterus, you can have tablet Duphastone twice daily for a month. This is Progesterone which supports the pregnancy.'}, page_content='Hello doctor,I am currently 12 weeks pregnant. I had my first ultrasound at 9 weeks. Everything went fine. The past few days I have been experiencing sharp pains in my lower abdomen and sometimes in my sides. This pain is just uncomfortable, I would not say it is severe. I have not had any bleeding but I have had white milky discharge. All I have been taking is a parentral Vitamin once a day.'), Document(id='4b607d68-0454-42b9-93c9-9ed61fa4f4a3', metadata={'answer': 'Hello. You are missing the most important thing that is the pregnancy test is an error, which means it is not positive. Of course, if IUD (intrauterine device) is displaced from the normal position, there is a chance of pregnancy and also of tubal ectopic pregnancy. But, it is not that all cases have a tubal pregnancy.'}, page_content='bloated, painful stomach and diarrhea. I had a miscarriage last year and the symptoms were the same that time. What shall I do now?')]\n",
            "=================================================================================================\n",
            "Question: Hi doctor,My last USG report showed intrauterine pregnancy with 8 mm gestation sac, no fetal and yolk sac. Last week I had brown discharge with mild lower abdominal pain and was prescribed Susten 200 mg (oral). Now, I am feeling the pain frequently in the right lower abdomen with mild bleeding and pain. It is less when I lie on bed. What to do?\n",
            "=================================================================================================\n",
            "Answer:\n",
            "=================================================================================================\n",
            "* Bed rest recommended\n",
            "* Continue Susten 200 mg orally twice daily\n",
            "* Take one Mbryosafe sachet daily containing L-arginine\n",
            "* Follow-up with an ultrasound after two weeks for further assessment\n",
            "\n",
            "Note: Threatened abortion may need close monitoring; however, specific treatment depends on individual circumstances and professional clinical judgment. Always consult directly with healthcare providers regarding personalized care plans.\n",
            "\n",
            "== Answer ==\n",
            "Bed rest advised\n",
            "Continue medication - Susten 200mg taken orally twice per day\n",
            "Take Mbryosafe sachet everyday comprising L-arginine\n",
            "Schedule follow-up via ultrasound post two weeks duration for reassessment\n",
            "Threatened abortion suspected requiring vigilance though exact management varies individually & must seek direct physician guidance\n",
            "\n",
            "Please note these recommendations stem solely from given text excerpts without comprehensive patient information review – always prioritize fuller dialogue with qualified professionals before making decisions about treatments.\n"
          ]
        }
      ]
    },
    {
      "cell_type": "code",
      "source": [
        "question = \"Hello doctor,I am currently having acne on my cheeks. I am currently applying Benzoyl peroxide gel on my acne. It only reduces the inflammation but bumps are not reducing. I also have pigmentation caused by acne before. I only get acne on my cheeks. What may be the reason? I usually get cyst acne bumps on my cheeks. If acne clears, then it comes again. I have red pigmentation caused by acne. Can you recommend a product for acne and after acne has cleared, can you suggest a product for pigmentation? Can you recommend a product for controlling further breakouts? Also, I wanted to know which sunscreen and moisturizer to use?\"\n",
        "# Invoke the chain to generate answers\n",
        "result = rag_chain.invoke(question)\n",
        "\n",
        "# Display the output\n",
        "print(result)\n"
      ],
      "metadata": {
        "colab": {
          "base_uri": "https://localhost:8080/"
        },
        "id": "C3XjXLVe8M67",
        "outputId": "7f5895ef-3f80-4923-c2ec-1761b3616272"
      },
      "execution_count": null,
      "outputs": [
        {
          "output_type": "stream",
          "name": "stdout",
          "text": [
            "\n",
            "=================================================================================================\n",
            "You are an expert doctor giving a precise answer based on the provided context.\n",
            "If you don't find the response in the context, just say \"I haven't found the answer\".\n",
            "If you don't know the reply, just say \"I don't know\", don't try to make up an answer.\n",
            "Give the return in bullet points within 50 words.\n",
            "=================================================================================================\n",
            "Context:\n",
            "[Document(id='db9ea6d4-9d02-4d7d-b026-deb54f16bef0', metadata={'answer': 'Hi. Acne reduces in severity with aging. Use cleanser like Cetaphil to wash face. Apply Retino-A (Retinol) cream in the night, Clindamycin gel in the morning. Treat dan ChatDoctor.  You can use sunscreens like Shade (Avobenzone, Oxybenzone) lotion. Retino-A helps in pigmentation and to some extent scars. You can consider lasers later if scars persist. For more information consult a dermatologist online'}, page_content='Hello doctor,I am currently having acne on my cheeks. I am currently applying Benzoyl peroxide gel on my acne. It only reduces the inflammation but bumps are not reducing. I also have pigmentation caused by acne before. I only get acne on my cheeks. What may be the reason? I usually get cyst acne bumps on my cheeks. If acne clears, then it comes again. I have red pigmentation caused by acne. Can you recommend a product for acne and after acne has cleared, can you suggest a product for pigmentation? Can you'), Document(id='c63e781a-b459-43f3-b8d0-2df092b81293', metadata={'answer': 'Hello. I understand your concerns. I have checked the attached photos (attachment removed to protect patient identity). From what you mentioned, you have severe acne that requires oral Isotretinoin for six months. I suggest'}, page_content='Hello doctor,I am having acne on my cheeks, forehead, and the back for the past six years. I have red and pus-filled acne. I am using Adapalene gel and Metrogyl gel. But, pimples did not go away and also spreading nearby. I have used Benzoyl peroxide too, but no improvement. I am using Acnestar S face wash twice daily. My face is so oily. Kindly suggest me some way to remove acne without leaving marks. Thank you.'), Document(id='0025f26c-c6d7-468f-a260-e22846a30fcf', metadata={'answer': 'Hi. Acne reduces in severity with aging. Use cleanser like Cetaphil to wash face. Apply Retino-A (Retinol) cream in the night, Clindamycin gel in the morning. Treat dan ChatDoctor.  You can use sunscreens like Shade (Avobenzone, Oxybenzone) lotion. Retino-A helps in pigmentation and to some extent scars. You can consider lasers later if scars persist. For more information consult a dermatologist online'}, page_content='for pigmentation? Can you recommend a product for controlling further breakouts? Also, I wanted to know which sunscreen and moisturizer to use?')]\n",
            "=================================================================================================\n",
            "Question: Hello doctor,I am currently having acne on my cheeks. I am currently applying Benzoyl peroxide gel on my acne. It only reduces the inflammation but bumps are not reducing. I also have pigmentation caused by acne before. I only get acne on my cheeks. What may be the reason? I usually get cyst acne bumps on my cheeks. If acne clears, then it comes again. I have red pigmentation caused by acne. Can you recommend a product for acne and after acne has cleared, can you suggest a product for pigmentation? Can you recommend a product for controlling further breakouts? Also, I wanted to know which sunscreen and moisturizer to use?\n",
            "=================================================================================================\n",
            "Answer:\n",
            "=================================================================================================\n",
            "* Your current treatment might need adjustments; Oral medications such as Isotretinoin could help due to persistent nature of symptoms.\n",
            "* Continue benzoyl peroxide at bedtime since retinoids work best overnight. Consider adding topical clindamycin during daylight hours.\n",
            "* To address pigmentation post-acne clearance, products containing hydroquinone should be considered under medical supervision.\n",
            "* Sun protection remains crucial - choose broad spectrum SPF balms/lotions avoiding oiliness issues e.g., La Roche-Posay Anthelios series. Moisturizers rich in hyaluronic acid will hydrate while minimizing shine.\n",
            "== Media Response ==\n",
            "- Persistent cystic acne suggests potential systematic involvement requiring stronger intervention than BP alone.\n",
            "- Night regimen includes continued application of benzoyl peroxide followed by gentle introduction of low concentration clindamycin.\n",
            "- Post-clear skin care involves careful selection of agents targeted against hyperpigmentation—consult about safe usage levels & possible side effects firsthand from healthcare provider guidance.\n",
            "- Optimal skincare routine incorporates noncomedogenic formulations ensuring adequate sebum control alongside effective UV defense measures via suitable photoprotectants tailored towards sensitive complexioned individuals prone toward excess dryness rather than greasiness when exposed outdoors frequently throughout varied seasons across different geographical locations worldwide including tropical climates where intense solar exposure prevails year round often leading increased risk factors associated directly correlated specifically linked primarily attributed mainly largely predominantly principally particularly prominently precipitating pronounced progression pathways potentially prompting premature photoaging phenomena hence necessitating diligent deliberative decision making process prior proceedings undertaken thereupon accordingly always adhering strictly abiding unwaveringly unto all prescribed protocol parameters set forth hereby unequivocally underscored thereby emphasized emphatically irrefutably indubitably invariably imperatively mandatory requisite essential quintessential absolutely paramount fundamentally critical intrinsically integral inherent innately ingrained implicitly intimately insinuated instinctively intuitively inveterate immutable inflexible ironclad impenetrable implacable incorrupt\n"
          ]
        }
      ]
    },
    {
      "cell_type": "code",
      "source": [
        "#============================\n",
        "# Agent\n",
        "#============================"
      ],
      "metadata": {
        "id": "BC_bfmTz8NCx"
      },
      "execution_count": null,
      "outputs": []
    },
    {
      "cell_type": "markdown",
      "source": [
        "#### What it is:\n",
        "The Agent interprets the user’s request, constructs a plan/action, and identifies decision points. From this, it executes the steps and makes the required decisions independently. In this context it refines retrieved answers and provide detailed, context-enhanced medical recommendations through conversational AI.\n",
        "\n",
        "#### Strengths & weaknesses:\n",
        "Adds intelligent processing and refinement. Depends on the quality of underlying models; may require extensive tuning to ensure accuracy and reliability."
      ],
      "metadata": {
        "id": "7ziZUjAICY66"
      }
    },
    {
      "cell_type": "code",
      "source": [
        "# Pipeline for text generation\n",
        "text_generation_pipeline = pipeline(\n",
        "    model=model,\n",
        "    tokenizer=tokenizer,\n",
        "    task=\"text-generation\",\n",
        "    temperature=0.2,\n",
        "    do_sample=True,\n",
        "    repetition_penalty=1.1,\n",
        "    return_full_text=False,\n",
        "    max_new_tokens=500,\n",
        ")\n",
        "\n"
      ],
      "metadata": {
        "colab": {
          "base_uri": "https://localhost:8080/"
        },
        "id": "9jUHsfGq8Up5",
        "outputId": "47bd3be7-8c72-4c56-a78c-4b2f6dee381f"
      },
      "execution_count": null,
      "outputs": [
        {
          "output_type": "stream",
          "name": "stderr",
          "text": [
            "Device set to use cuda:0\n"
          ]
        }
      ]
    },
    {
      "cell_type": "code",
      "source": [
        "medical_assistant = autogen.AssistantAgent(\n",
        "    name=\"medical_assistant\",\n",
        "    system_message=\"You are a medical assistant involved in the analysis of patients disease.\",\n",
        "    llm_config=llm_config,\n",
        ")"
      ],
      "metadata": {
        "id": "kYqoMdeRTi_n"
      },
      "execution_count": null,
      "outputs": []
    },
    {
      "cell_type": "code",
      "source": [
        "task= '''\n",
        "      Firstly review the {result} from \"rag_chain.invoke(question)\" and refine {result} adding details from [metadata].\n",
        "      Then write a concise medical recommendation to user's question in bullet points.\n",
        "      Please write both answers within 50 words for each one.\n",
        "      '''"
      ],
      "metadata": {
        "id": "DsCKCWUpUcem"
      },
      "execution_count": null,
      "outputs": []
    },
    {
      "cell_type": "code",
      "source": [
        "question = \"HI doctor, What are common symptoms of flu?\"\n",
        "# Invoke the chain to generate answers\n",
        "result = rag_chain.invoke(question)\n",
        "# Prepare the messages for the assistant\n",
        "messages = [\n",
        "        {\"role\": \"user\", \"content\": question},\n",
        "        {\"role\": \"user\", \"content\": f\"Here is the retrieved context: {result}\"},\n",
        "        {\"role\": \"user\", \"content\": task}\n",
        "]\n",
        "# Generate the reply using the assistant\n",
        "reply = medical_assistant.generate_reply(messages=messages)\n",
        "\n",
        "# Display the output\n",
        "print('=======================================================================================')\n",
        "print(\"Agent Review with Medical Recommendation:\")\n",
        "print('=======================================================================================')\n",
        "print(reply)\n"
      ],
      "metadata": {
        "colab": {
          "base_uri": "https://localhost:8080/"
        },
        "id": "1-S9UxY-VmiG",
        "outputId": "4fecac14-bb00-4a7b-b960-88eac2f196db"
      },
      "execution_count": null,
      "outputs": [
        {
          "output_type": "stream",
          "name": "stdout",
          "text": [
            "=======================================================================================\n",
            "Agent Review with Medical Recommendation:\n",
            "=======================================================================================\n",
            "### Refined Result:\n",
            "- Common symptoms of flu include:\n",
            "  - Sore Throat\n",
            "  - Headaches\n",
            "  - Body Aches\n",
            "  - High Temperature/Fever\n",
            "- Symptoms may differ among individuals; consulting a medical professional is essential for an accurate diagnosis and treatment.\n",
            "\n",
            "### Medical Recommendation:\n",
            "- Monitor your symptoms closely.\n",
            "- Stay hydrated and rest.\n",
            "- Use over-the-counter medications for fever and pain relief.\n",
            "- Seek medical attention if symptoms worsen or persist.\n"
          ]
        }
      ]
    },
    {
      "cell_type": "code",
      "source": [
        "question = \"Hi doctor,My last USG report showed intrauterine pregnancy with 8 mm gestation sac, no fetal and yolk sac. Last week I had brown discharge with mild lower abdominal pain and was prescribed Susten 200 mg (oral). Now, I am feeling the pain frequently in the right lower abdomen with mild bleeding and pain. It is less when I lie on bed. What to do?\"\n",
        "# Invoke the chain to generate answers\n",
        "result = rag_chain.invoke(question)\n",
        "# Prepare the messages for the assistant\n",
        "messages = [\n",
        "        {\"role\": \"user\", \"content\": question},\n",
        "        {\"role\": \"user\", \"content\": f\"Here is the retrieved context: {result}\"},\n",
        "        {\"role\": \"user\", \"content\": task}\n",
        "]\n",
        "# Generate the reply using the assistant\n",
        "reply = medical_assistant.generate_reply(messages=messages)\n",
        "\n",
        "# Display the output\n",
        "print('=======================================================================================')\n",
        "print(\"Agent Review with Medical Recommendation:\")\n",
        "print('=======================================================================================')\n",
        "print(reply)\n"
      ],
      "metadata": {
        "colab": {
          "base_uri": "https://localhost:8080/"
        },
        "id": "pJeWa_A_c2Wd",
        "outputId": "08828100-d3a2-4909-d7c7-a3825eaa716f"
      },
      "execution_count": null,
      "outputs": [
        {
          "output_type": "stream",
          "name": "stdout",
          "text": [
            "=======================================================================================\n",
            "Agent Review with Medical Recommendation:\n",
            "=======================================================================================\n",
            "### Refined Result\n",
            "* The report indicates a threatened abortion with an 8 mm gestation sac but no fetal or yolk sac visible. Brown discharge and abdominal pain were noted. Susten 200 mg was prescribed to support the pregnancy. Rest and an ultrasound follow-up are advised.\n",
            "\n",
            "### Medical Recommendation\n",
            "* Continue Susten 200 mg twice daily and consider L-arginine sachets.\n",
            "* Take bed rest to alleviate pain and bleeding.\n",
            "* Schedule a follow-up ultrasound in two weeks for further evaluation.\n"
          ]
        }
      ]
    },
    {
      "cell_type": "code",
      "source": [
        "question = \"Hello doctor,I am currently having acne on my cheeks. I am currently applying Benzoyl peroxide gel on my acne. It only reduces the inflammation but bumps are not reducing. I also have pigmentation caused by acne before. I only get acne on my cheeks. What may be the reason? I usually get cyst acne bumps on my cheeks. If acne clears, then it comes again. I have red pigmentation caused by acne. Can you recommend a product for acne and after acne has cleared, can you suggest a product for pigmentation? Can you recommend a product for controlling further breakouts? Also, I wanted to know which sunscreen and moisturizer to use?\"\n",
        "# Invoke the chain to generate answers\n",
        "result = rag_chain.invoke(question)\n",
        "# Prepare the messages for the assistant\n",
        "messages = [\n",
        "        {\"role\": \"user\", \"content\": question},\n",
        "        {\"role\": \"user\", \"content\": f\"Here is the retrieved context: {result}\"},\n",
        "        {\"role\": \"user\", \"content\": task}\n",
        "]\n",
        "# Generate the reply using the assistant\n",
        "reply = medical_assistant.generate_reply(messages=messages)\n",
        "\n",
        "# Display the output\n",
        "print('=======================================================================================')\n",
        "print(\"Agent Review with Medical Recommendation:\")\n",
        "print('=======================================================================================')\n",
        "print(reply)\n"
      ],
      "metadata": {
        "colab": {
          "base_uri": "https://localhost:8080/"
        },
        "id": "SZh6EuyZc2Yz",
        "outputId": "9c47ce35-b444-4dde-f67d-2b3045c0a6b1"
      },
      "execution_count": null,
      "outputs": [
        {
          "output_type": "stream",
          "name": "stdout",
          "text": [
            "=======================================================================================\n",
            "Agent Review with Medical Recommendation:\n",
            "=======================================================================================\n",
            "**Refined Result:**\n",
            "- Severe acne may require Oral Isotretinoin treatment; consult a dermatologist.\n",
            "- Use a gentle cleanser like Cetaphil and apply Retino-A (night) with Clindamycin (morning).\n",
            "- For pigmentation, consider Retino-A or vitamin C serum post-acne.\n",
            "- Use sunscreen with Avobenzone and moisturizer with hyaluronic acid and niacinamide.\n",
            "\n",
            "**Concise Medical Recommendation:**\n",
            "- Switch to Cetaphil cleanser; apply Retino-A at night, Clindamycin in the morning.\n",
            "- Use vitamin C serum for pigmentation after acne clears.\n",
            "- Apply broad-spectrum sunscreen with Avobenzone and a moisturizer containing hyaluronic acid and niacinamide to improve skin barrier and reduce inflammation.\n"
          ]
        }
      ]
    }
  ]
}